{
  "nbformat": 4,
  "nbformat_minor": 0,
  "metadata": {
    "colab": {
      "name": "Assignment_3.ipynb",
      "provenance": []
    },
    "kernelspec": {
      "name": "python3",
      "display_name": "Python 3"
    }
  },
  "cells": [
    {
      "cell_type": "markdown",
      "metadata": {
        "id": "5W186dqwRsjB",
        "colab_type": "text"
      },
      "source": [
        "## **Take two inputsfrom user and check whether they are equal or not**"
      ]
    },
    {
      "cell_type": "code",
      "metadata": {
        "id": "ImCIrwcbSORz",
        "colab_type": "code",
        "colab": {
          "base_uri": "https://localhost:8080/",
          "height": 67
        },
        "outputId": "d5385b99-051e-4991-a562-cec478481653"
      },
      "source": [
        "a=int(input(\"Enter the first number\"))\n",
        "b=int(input(\"Enter the second number\"))\n",
        "if a==b:\n",
        "  print(\"Both are equal Numbers\")\n",
        "else:\n",
        "  print(\"Not equal Numbers\")"
      ],
      "execution_count": 1,
      "outputs": [
        {
          "output_type": "stream",
          "text": [
            "Enter the first number11\n",
            "Enter the second number15\n",
            "Not equal Numbers\n"
          ],
          "name": "stdout"
        }
      ]
    },
    {
      "cell_type": "markdown",
      "metadata": {
        "id": "TuMuz6xPTXqD",
        "colab_type": "text"
      },
      "source": [
        "## **Take 3 inputs from user and check**\n",
        "1.   All are equal\n",
        "2.   Any of two are equal(**use** and or)\n",
        "\n",
        "\n"
      ]
    },
    {
      "cell_type": "code",
      "metadata": {
        "id": "nGrojyCaUbYR",
        "colab_type": "code",
        "colab": {
          "base_uri": "https://localhost:8080/",
          "height": 101
        },
        "outputId": "77e74c4d-7693-42db-dce8-898da80e8baf"
      },
      "source": [
        "a=int(input(\"Enter the first number\"))\n",
        "b=int(input(\"Enter the second number\"))\n",
        "c=int(input(\"Enter the third number\"))\n",
        "s=a==b and b==c and c==a\n",
        "print(\"All are equal\", s)\n",
        "n=a==b or b==c or c==a\n",
        "print(\"Any of two are equal\", n)"
      ],
      "execution_count": 2,
      "outputs": [
        {
          "output_type": "stream",
          "text": [
            "Enter the first number2\n",
            "Enter the second number6\n",
            "Enter the third number2\n",
            "All are equal False\n",
            "Any of two are equal True\n"
          ],
          "name": "stdout"
        }
      ]
    },
    {
      "cell_type": "markdown",
      "metadata": {
        "id": "ibujg_7oZeTc",
        "colab_type": "text"
      },
      "source": [
        "# **Take two numbers and check whether the sum is greater than 5,less than 5 or equal to 5**"
      ]
    },
    {
      "cell_type": "code",
      "metadata": {
        "id": "Ur03r5E8aLOD",
        "colab_type": "code",
        "colab": {
          "base_uri": "https://localhost:8080/",
          "height": 67
        },
        "outputId": "abbfaf93-e4b7-42cf-f828-86fbc61605bc"
      },
      "source": [
        "a=int(input(\"Enter the first number\"))\n",
        "b=int(input(\"Enter the second number\"))\n",
        "s=a+b\n",
        "if s>5:\n",
        "  print('It is greater than 5')\n",
        "elif s<5:\n",
        "  print('It is less than 5')\n",
        "else:\n",
        "  print('Equal to 5')\n",
        " "
      ],
      "execution_count": 3,
      "outputs": [
        {
          "output_type": "stream",
          "text": [
            "Enter the first number2\n",
            "Enter the second number3\n",
            "Equal to 5\n"
          ],
          "name": "stdout"
        }
      ]
    },
    {
      "cell_type": "markdown",
      "metadata": {
        "id": "nIg1I5Sxbzih",
        "colab_type": "text"
      },
      "source": [
        "# **Suppose passing marks of a subject is 35. take input of marks from the user and check whether it is greater than the passing marks or not**"
      ]
    },
    {
      "cell_type": "code",
      "metadata": {
        "id": "oIC2UR8ucuI0",
        "colab_type": "code",
        "colab": {
          "base_uri": "https://localhost:8080/",
          "height": 50
        },
        "outputId": "d59f0947-1933-43b4-df3d-784a206bdddb"
      },
      "source": [
        "a=int(input('Enter the marks obtained'))\n",
        "p=35\n",
        "if a>=35:\n",
        "  print('Greater than passing marks')\n",
        "else:\n",
        "  print('less than passing marks')"
      ],
      "execution_count": 4,
      "outputs": [
        {
          "output_type": "stream",
          "text": [
            "Enter the marks obtained65\n",
            "Greater than passing marks\n"
          ],
          "name": "stdout"
        }
      ]
    },
    {
      "cell_type": "markdown",
      "metadata": {
        "id": "MgR3G0spedOG",
        "colab_type": "text"
      },
      "source": [
        "# **Write a python function to find the Max of three numbers**"
      ]
    },
    {
      "cell_type": "code",
      "metadata": {
        "id": "yUfvSIQ-fKSx",
        "colab_type": "code",
        "colab": {
          "base_uri": "https://localhost:8080/",
          "height": 84
        },
        "outputId": "77c62e04-3384-46ed-d63a-9806073c04fb"
      },
      "source": [
        "a=int(input(\"Enter the first number\"))\n",
        "b=int(input(\"Enter the second number\"))\n",
        "c=int(input(\"Enter the third number\"))\n",
        "if a>b and a>c :\n",
        " print(\"Biggest Number=\",a)\n",
        "elif b>a and b>c:\n",
        " print(\"Biggest Number=\",b)\n",
        "else:\n",
        " print(\"Biggest Number=\",c)    "
      ],
      "execution_count": 5,
      "outputs": [
        {
          "output_type": "stream",
          "text": [
            "Enter the first number5\n",
            "Enter the second number6\n",
            "Enter the third number2\n",
            "Biggest Number= 6\n"
          ],
          "name": "stdout"
        }
      ]
    }
  ]
}